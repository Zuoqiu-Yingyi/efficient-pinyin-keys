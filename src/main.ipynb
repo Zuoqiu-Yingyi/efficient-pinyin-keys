{
 "cells": [
  {
   "cell_type": "markdown",
   "id": "2f27db97-3eed-4b10-b6a3-d76a7636b884",
   "metadata": {},
   "source": [
    "# Step 1 统计按键使用频率\n",
    "\n",
    "- 要求: 给定一篇中文文章(input.txt), 统计出使用全拼输入法录入这篇文章时26个字母键的使用频率, 绘制热力图。\n",
    "- 输入: 一篇中文文章（附件文章）\n",
    "- 输出: 录入这篇文章的26字母键使用热力图\n"
   ]
  },
  {
   "cell_type": "code",
   "execution_count": 1,
   "id": "c11ff24b-ebe6-478f-b8f3-4b84003d218a",
   "metadata": {
    "execution": {
     "iopub.execute_input": "2021-08-18T12:39:51.397666Z",
     "iopub.status.busy": "2021-08-18T12:39:51.396668Z",
     "iopub.status.idle": "2021-08-18T12:39:52.581788Z",
     "shell.execute_reply": "2021-08-18T12:39:52.580825Z",
     "shell.execute_reply.started": "2021-08-18T12:39:51.396668Z"
    },
    "tags": []
   },
   "outputs": [],
   "source": [
    "%matplotlib widget\n",
    "# %matplotlib inline\n",
    "\n",
    "import pypinyin as py\n",
    "import matplotlib.pyplot as plt\n",
    "import matplotlib.ticker as ticker\n",
    "import pandas as pd\n",
    "import numpy as np\n",
    "\n",
    "from math import log\n",
    "from matplotlib import font_manager\n",
    "from collections import Counter\n",
    "from IPython.display import IFrame\n",
    "\n",
    "font = font_manager.FontProperties(fname=r\"../../../font/YaHei Consolas Hybrid.ttf\")  # 用于显示中文的字体文件(严格等宽)\n",
    "plt.rcParams['font.sans-serif']=['SimHei']  # 将全局的字体设置为黑体"
   ]
  },
  {
   "cell_type": "code",
   "execution_count": 2,
   "id": "fd00b679-6317-4df1-baf5-f378a1c8791e",
   "metadata": {
    "execution": {
     "iopub.execute_input": "2021-08-18T12:39:52.582785Z",
     "iopub.status.busy": "2021-08-18T12:39:52.582785Z",
     "iopub.status.idle": "2021-08-18T12:39:53.388209Z",
     "shell.execute_reply": "2021-08-18T12:39:53.387243Z",
     "shell.execute_reply.started": "2021-08-18T12:39:52.582785Z"
    },
    "tags": []
   },
   "outputs": [],
   "source": [
    "with open('./input.txt', 'r', encoding='utf8') as f:\n",
    "    content = f.read()\n",
    "    full = py.lazy_pinyin(\n",
    "        content,\n",
    "        style=py.Style.NORMAL,\n",
    "        errors='ignore',\n",
    "        strict=False,\n",
    "        v_to_u=False,\n",
    "        neutral_tone_with_five=False,\n",
    "    )\n",
    "    initials = py.lazy_pinyin(\n",
    "        content,\n",
    "        style=py.Style.INITIALS,\n",
    "        errors='ignore',\n",
    "        strict=False,\n",
    "        v_to_u=False,\n",
    "        neutral_tone_with_five=False,\n",
    "    )\n",
    "    finals = py.lazy_pinyin(\n",
    "        content,\n",
    "        style=py.Style.FINALS,\n",
    "        errors='ignore',\n",
    "        strict=False,\n",
    "        v_to_u=False,\n",
    "        neutral_tone_with_five=False,\n",
    "    )\n"
   ]
  },
  {
   "cell_type": "markdown",
   "id": "0d9bdc53-1dbf-4e81-9343-2b2f1df73b41",
   "metadata": {
    "tags": []
   },
   "source": [
    "## 绘制热度图"
   ]
  },
  {
   "cell_type": "code",
   "execution_count": 3,
   "id": "fc76a741-9c62-436d-b693-0b32fca8699e",
   "metadata": {
    "execution": {
     "iopub.execute_input": "2021-08-18T12:39:53.389208Z",
     "iopub.status.busy": "2021-08-18T12:39:53.388209Z",
     "iopub.status.idle": "2021-08-18T12:39:53.419149Z",
     "shell.execute_reply": "2021-08-18T12:39:53.418153Z",
     "shell.execute_reply.started": "2021-08-18T12:39:53.389208Z"
    },
    "tags": []
   },
   "outputs": [],
   "source": [
    "# 热度图\n",
    "with open('./www/default.html', 'r') as fr:\n",
    "    default_page = fr.read()\n",
    "    with open('./www/full.html', 'w') as fw:\n",
    "        fw.write('<div id=\"inputarea\">')\n",
    "        fw.write('<textarea id=\"typefield\">')\n",
    "        fw.write(\" \".join(full))\n",
    "        fw.write('</textarea>')\n",
    "        fw.write('</div>')\n",
    "        fw.write(default_page)\n",
    "    with open('./www/initials.html', 'w') as fw:\n",
    "        fw.write('<div id=\"inputarea\">')\n",
    "        fw.write('<textarea id=\"typefield\">')\n",
    "        fw.write(\" \".join(initials))\n",
    "        fw.write('</textarea>')\n",
    "        fw.write('</div>')\n",
    "        fw.write(default_page)\n",
    "    with open('./www/finals.html', 'w') as fw:\n",
    "        fw.write('<div id=\"inputarea\">')\n",
    "        fw.write('<textarea id=\"typefield\">')\n",
    "        fw.write(\" \".join(finals))\n",
    "        fw.write('</textarea>')\n",
    "        fw.write('</div>')\n",
    "        fw.write(default_page)"
   ]
  },
  {
   "cell_type": "markdown",
   "id": "3cc3ccd0-4bbc-422b-a885-0fac90b98662",
   "metadata": {},
   "source": [
    "### [全拼热度图](./www/full.html)"
   ]
  },
  {
   "cell_type": "code",
   "execution_count": 4,
   "id": "d5100431-d66a-4827-962f-c235ad388d2e",
   "metadata": {
    "execution": {
     "iopub.execute_input": "2021-08-18T12:39:53.421144Z",
     "iopub.status.busy": "2021-08-18T12:39:53.421144Z",
     "iopub.status.idle": "2021-08-18T12:39:53.435106Z",
     "shell.execute_reply": "2021-08-18T12:39:53.434108Z",
     "shell.execute_reply.started": "2021-08-18T12:39:53.421144Z"
    },
    "tags": []
   },
   "outputs": [
    {
     "data": {
      "text/html": [
       "\n",
       "        <iframe\n",
       "            width=\"810\"\n",
       "            height=\"500\"\n",
       "            src=\"./www/full.html\"\n",
       "            frameborder=\"0\"\n",
       "            allowfullscreen\n",
       "        ></iframe>\n",
       "        "
      ],
      "text/plain": [
       "<IPython.lib.display.IFrame at 0x2250954dfd0>"
      ]
     },
     "execution_count": 4,
     "metadata": {},
     "output_type": "execute_result"
    }
   ],
   "source": [
    "IFrame(src='./www/full.html', width=810, height=500)"
   ]
  },
  {
   "cell_type": "markdown",
   "id": "7e2b7ec2-cd8a-4e25-93d7-561f6e07d026",
   "metadata": {},
   "source": [
    "### [声母 & (`y`,`w`)热度图](./www/initials.html)"
   ]
  },
  {
   "cell_type": "code",
   "execution_count": 5,
   "id": "02548d7d-c5f0-43d8-a0b7-a353b947b5c9",
   "metadata": {
    "execution": {
     "iopub.execute_input": "2021-08-18T12:39:53.437101Z",
     "iopub.status.busy": "2021-08-18T12:39:53.436104Z",
     "iopub.status.idle": "2021-08-18T12:39:53.451064Z",
     "shell.execute_reply": "2021-08-18T12:39:53.450099Z",
     "shell.execute_reply.started": "2021-08-18T12:39:53.437101Z"
    }
   },
   "outputs": [
    {
     "data": {
      "text/html": [
       "\n",
       "        <iframe\n",
       "            width=\"810\"\n",
       "            height=\"500\"\n",
       "            src=\"./www/initials.html\"\n",
       "            frameborder=\"0\"\n",
       "            allowfullscreen\n",
       "        ></iframe>\n",
       "        "
      ],
      "text/plain": [
       "<IPython.lib.display.IFrame at 0x22509565730>"
      ]
     },
     "execution_count": 5,
     "metadata": {},
     "output_type": "execute_result"
    }
   ],
   "source": [
    "IFrame(src='./www/initials.html', width=810, height=500)"
   ]
  },
  {
   "cell_type": "markdown",
   "id": "879bbe5a-fd30-48f2-b344-4540ba770c74",
   "metadata": {},
   "source": [
    "### [韵母 & 介母热度图](./www/finals.html)"
   ]
  },
  {
   "cell_type": "code",
   "execution_count": 6,
   "id": "ea989899-b2a5-49ab-8e16-5d2b1cb17b9b",
   "metadata": {
    "execution": {
     "iopub.execute_input": "2021-08-18T12:39:53.456054Z",
     "iopub.status.busy": "2021-08-18T12:39:53.455052Z",
     "iopub.status.idle": "2021-08-18T12:39:53.466023Z",
     "shell.execute_reply": "2021-08-18T12:39:53.465026Z",
     "shell.execute_reply.started": "2021-08-18T12:39:53.456054Z"
    }
   },
   "outputs": [
    {
     "data": {
      "text/html": [
       "\n",
       "        <iframe\n",
       "            width=\"810\"\n",
       "            height=\"500\"\n",
       "            src=\"./www/finals.html\"\n",
       "            frameborder=\"0\"\n",
       "            allowfullscreen\n",
       "        ></iframe>\n",
       "        "
      ],
      "text/plain": [
       "<IPython.lib.display.IFrame at 0x2250e43d6a0>"
      ]
     },
     "execution_count": 6,
     "metadata": {},
     "output_type": "execute_result"
    }
   ],
   "source": [
    "IFrame(src='./www/finals.html', width=810, height=500)"
   ]
  },
  {
   "cell_type": "markdown",
   "id": "428e4b66-1075-48fc-9072-14b7d30ea94d",
   "metadata": {},
   "source": [
    "## 绘制按键频率直方图"
   ]
  },
  {
   "cell_type": "code",
   "execution_count": 7,
   "id": "05f36784-2e68-430a-bcfd-0beb7ed32339",
   "metadata": {
    "execution": {
     "iopub.execute_input": "2021-08-18T12:39:53.470013Z",
     "iopub.status.busy": "2021-08-18T12:39:53.469016Z",
     "iopub.status.idle": "2021-08-18T12:39:53.541509Z",
     "shell.execute_reply": "2021-08-18T12:39:53.540513Z",
     "shell.execute_reply.started": "2021-08-18T12:39:53.470013Z"
    },
    "tags": []
   },
   "outputs": [
    {
     "name": "stdout",
     "output_type": "stream",
     "text": [
      "声母 & (y,w):\n",
      "数量: 24\n",
      "            num\n",
      "chars          \n",
      "d      0.133863\n",
      "j      0.095790\n",
      "y      0.082988\n",
      "zh     0.076367\n",
      "sh     0.075650\n",
      "g      0.052199\n",
      "z      0.047509\n",
      "ch     0.045302\n",
      "l      0.044860\n",
      "x      0.043922\n",
      "h      0.041660\n",
      "b      0.039287\n",
      "t      0.034928\n",
      "m      0.034707\n",
      "w      0.024886\n",
      "q      0.024334\n",
      "f      0.023947\n",
      "r      0.017492\n",
      "n      0.012967\n",
      "c      0.012746\n",
      "s      0.010705\n",
      "k      0.009215\n",
      "p      0.007394\n",
      "       0.007284\n",
      "韵母 & 介母:\n",
      "数量: 34\n",
      "            num\n",
      "chars          \n",
      "i      0.191028\n",
      "e      0.149313\n",
      "u      0.074601\n",
      "ong    0.054461\n",
      "an     0.051316\n",
      "en     0.039232\n",
      "ie     0.037687\n",
      "ai     0.037080\n",
      "eng    0.036528\n",
      "a      0.032610\n",
      "uo     0.029465\n",
      "ou     0.027313\n",
      "ian    0.025382\n",
      "ui     0.024389\n",
      "ing    0.023561\n",
      "ang    0.021851\n",
      "ao     0.020526\n",
      "ei     0.018430\n",
      "uan    0.016222\n",
      "in     0.016057\n",
      "iao    0.015119\n",
      "un     0.008718\n",
      "iang   0.008277\n",
      "iu     0.008111\n",
      "ue     0.007008\n",
      "ia     0.006952\n",
      "er     0.005849\n",
      "o      0.005297\n",
      "uang   0.002924\n",
      "ua     0.002262\n",
      "v      0.001379\n",
      "uai    0.000717\n",
      "iong   0.000221\n",
      "ve     0.000110\n"
     ]
    }
   ],
   "source": [
    "full_str = \"\".join(full)\n",
    "full_list = list(full_str)\n",
    "\n",
    "\n",
    "df_full = pd.DataFrame({'chars': full_list})\n",
    "df_initials = pd.DataFrame({'chars': initials})\n",
    "df_finals = pd.DataFrame({'chars': finals})\n",
    "\n",
    "# df_full = df[df.chars != ' ']\n",
    "\n",
    "df_full['num'] = 1\n",
    "df_initials['num'] = 1\n",
    "df_finals['num'] = 1\n",
    "\n",
    "# 频率\n",
    "df_full_f = df_full.groupby('chars').sum().sort_values('num', ascending=False) / len(df_full)\n",
    "df_initials_f = df_initials.groupby('chars').sum().sort_values('num', ascending=False) / len(df_initials)\n",
    "df_finals_f = df_finals.groupby('chars').sum().sort_values('num', ascending=False) / len(df_finals)\n",
    "\n",
    "# 频数\n",
    "df_full = df_full.groupby('chars').sum().sort_values('num', ascending=False)\n",
    "df_initials = df_initials.groupby('chars').sum().sort_values('num', ascending=False)\n",
    "df_finals = df_finals.groupby('chars').sum().sort_values('num', ascending=False)\n",
    "\n",
    "print(\"声母 & (y,w):\\n数量: %d\" % len(df_initials_f))\n",
    "print(df_initials_f)\n",
    "print(\"韵母 & 介母:\\n数量: %d\" % len(df_finals_f))\n",
    "print(df_finals_f)"
   ]
  },
  {
   "cell_type": "code",
   "execution_count": 8,
   "id": "7117f2e2-6317-4fe1-a8dc-f5b61712e8d1",
   "metadata": {
    "execution": {
     "iopub.execute_input": "2021-08-18T12:39:53.543504Z",
     "iopub.status.busy": "2021-08-18T12:39:53.543504Z",
     "iopub.status.idle": "2021-08-18T12:39:54.893404Z",
     "shell.execute_reply": "2021-08-18T12:39:54.892407Z",
     "shell.execute_reply.started": "2021-08-18T12:39:53.543504Z"
    },
    "tags": []
   },
   "outputs": [
    {
     "data": {
      "application/vnd.jupyter.widget-view+json": {
       "model_id": "dcb3751f4a5b4dd0a6583d3555cecfcd",
       "version_major": 2,
       "version_minor": 0
      },
      "text/plain": [
       "Canvas(toolbar=Toolbar(toolitems=[('Home', 'Reset original view', 'home', 'home'), ('Back', 'Back to previous …"
      ]
     },
     "metadata": {},
     "output_type": "display_data"
    },
    {
     "data": {
      "image/png": "[encoded data removed]",
      "text/plain": [
       "<Figure size 640x480 with 3 Axes>"
      ]
     },
     "metadata": {},
     "output_type": "display_data"
    }
   ],
   "source": [
    "fig, axes = plt.subplots(nrows=3, ncols=1)\n",
    "\n",
    "axes[0].bar(df_full_f.index, df_full_f.num * 100, width=0.75, color='r')\n",
    "axes[0].set_title('全拼按键频率分布直方图')\n",
    "axes[0].set_ylabel(\"频率 (%)\")\n",
    "axes[0].set_yticks(np.arange(0, 25, 5))\n",
    "# axes[0].set_title('键频', fontproperties=font)\n",
    "# axes[0].set_xticklabels(df_full.index, rotation=45)\n",
    "\n",
    "axes[1].bar(df_initials_f.index, df_initials_f.num * 100, width=0.75, color='g')\n",
    "axes[1].set_title('声母 & (y,w)频率分布直方图')\n",
    "axes[1].set_ylabel(\"频率 (%)\")\n",
    "axes[1].set_yticks(np.arange(0, 25, 5))\n",
    "# axes[1].set_xticklabels(df_initials.index, rotation=45)\n",
    "\n",
    "axes[2].bar(df_finals_f.index, df_finals_f.num * 100, width=0.75, color='b')\n",
    "axes[2].set_title('韵母 & 介母频率分布直方图')\n",
    "axes[2].set_ylabel(\"频率 (%)\")\n",
    "axes[2].set_yticks(np.arange(0, 25, 5))\n",
    "axes[2].xaxis.set_major_locator(ticker.FixedLocator(range(len(df_finals_f))))\n",
    "axes[2].set_xticklabels(df_finals_f.index, rotation=60)\n",
    "axes[2].tick_params(labelsize=9)  # 刻度字体大小\n",
    "\n",
    "fig.tight_layout()  # 紧凑布局\n",
    "display(fig)"
   ]
  },
  {
   "cell_type": "markdown",
   "id": "60236a41-6606-4f12-8bd1-d470e914fa88",
   "metadata": {},
   "source": [
    "# Step 2 均衡性 & 输入效率\n",
    "\n",
    "- 要求: 设计评价标准来分别评价使用全拼录入这篇文章时的按键使用均衡性和输入效率（请根据个人理解自行定义，建议使用明确的量化指标）。 \n",
    "- 输出: 量化评价标准或方法，以及对全拼输入方案的评价结果\n"
   ]
  },
  {
   "cell_type": "markdown",
   "id": "fb81b30d-a270-4a4f-84c4-164ef4e8fa23",
   "metadata": {},
   "source": [
    "## 均衡性\n",
    "\n",
    "`均衡性`可以由`按键熵`, `手指熵`与`手掌熵`三个指标的加权和表示:\n",
    "$$\n",
    "B = A_k \\cdot B_k \\cdot W_k + A_f \\cdot B_f \\cdot W_f + A_h \\cdot B_h \\cdot W_h\n",
    "$$\n",
    "- $B$: `均衡性`\n",
    "- $B_k$: `按键熵`, 使用`各按键实际敲击频率`的熵表示, 衡量按键均匀敲击的程度\n",
    "    - $B_k \\to 0$: 按键实际使用概率分布不均匀\n",
    "    - $B_k \\to 1$: 按键实际使用概率分布均匀\n",
    "- $B_f$: `手指熵`, 使用`各手指实际敲击频率`的熵表示, 衡量手指均匀敲击的程度\n",
    "    - $B_f \\to 0$: 手指实际使用概率分布不均匀\n",
    "    - $B_f \\to 1$: 手指实际使用概率分布均匀\n",
    "- $B_h$: `手掌熵`, 使用`各手掌实际使用频率`的熵表示, 衡量手掌均匀敲击的程度\n",
    "    - $B_h \\to 0$: 手掌实际使用概率分布不均匀\n",
    "    - $B_h \\to 1$: 手掌实际使用概率分布均匀\n",
    "- $A_k$: `按键频率熵归一化系数`, 值为`按键频率熵`最大熵的倒数 $log_2{26}$\n",
    "- $A_f$: `手指频率熵归一化系数`, 值为`手指频率熵`最大熵的倒数 $log_2{8}$\n",
    "- $A_h$: `手掌频率熵归一化系数`, 值为`手掌频率熵`最大熵的倒数 $log_2{2}$\n",
    "- $W_k$: `按键均匀性权重`\n",
    "- $W_f$: `手指均匀性权重`\n",
    "- $W_h$: `手掌均匀性权重`\n",
    "\n",
    "`熵`:\n",
    "$$\n",
    "H(p) := -\\sum_i{p(i) \\log_2{p(i)}}\n",
    "$$\n",
    "\n",
    "`交叉熵`:\n",
    "$$\n",
    "H(p \\parallel q) := - \\sum_i{p(i) \\log_2{q(i)}}\n",
    "$$"
   ]
  },
  {
   "cell_type": "markdown",
   "id": "40c0ce9c-b609-4e09-bc02-1679a3a211a6",
   "metadata": {},
   "source": [
    "### 建立按键与手指/手掌的映射"
   ]
  },
  {
   "cell_type": "code",
   "execution_count": 9,
   "id": "be317002-264f-42dd-a2a9-feb21cf58cd4",
   "metadata": {
    "execution": {
     "iopub.execute_input": "2021-08-18T12:39:54.895398Z",
     "iopub.status.busy": "2021-08-18T12:39:54.894401Z",
     "iopub.status.idle": "2021-08-18T12:39:54.908544Z",
     "shell.execute_reply": "2021-08-18T12:39:54.907546Z",
     "shell.execute_reply.started": "2021-08-18T12:39:54.895398Z"
    },
    "tags": []
   },
   "outputs": [],
   "source": [
    "# 按键与手指/手掌的映射\n",
    "\n",
    "class Key(object):\n",
    "    \"\"\" 按键类 \"\"\"\n",
    "    def __init__(self, key, finger, hand, row, column):\n",
    "        \"\"\"\n",
    "        :param: key 按键名称(char)\n",
    "        :param: finger 标准敲击指法(int)\n",
    "            0: 左手小指\n",
    "            1: 左手无名指\n",
    "            2: 左手中指\n",
    "            3: 左手食指\n",
    "            4: 右手小指\n",
    "            5: 右手无名指\n",
    "            6: 右手中指\n",
    "            7: 右手食指\n",
    "        :param: hand 手掌(int)\n",
    "            0: 左手\n",
    "            1: 右手\n",
    "        :param: row 位置行标(int)\n",
    "            0~2: 第 1~3 列\n",
    "        :param: column 位置列表(int)\n",
    "            0~9: 第 1~10 列\n",
    "        \"\"\"\n",
    "        self.key = key\n",
    "        self.finger = finger\n",
    "        self.hand = hand\n",
    "        self.row = row\n",
    "        self.column = column\n",
    "\n",
    "\n",
    "keys = {\n",
    "    'q': Key('q', 0, 0, 0, 0),\n",
    "    'w': Key('w', 1, 0, 0, 1),\n",
    "    'e': Key('e', 2, 0, 0, 2),\n",
    "    'r': Key('r', 3, 0, 0, 3),\n",
    "    't': Key('t', 3, 0, 0, 4),\n",
    "    'y': Key('y', 7, 1, 0, 5),\n",
    "    'u': Key('u', 7, 1, 0, 6),\n",
    "    'i': Key('i', 6, 1, 0, 7),\n",
    "    'o': Key('o', 5, 1, 0, 8),\n",
    "    'p': Key('p', 4, 1, 0, 9),\n",
    "    'a': Key('a', 0, 0, 1, 0),\n",
    "    's': Key('s', 1, 0, 1, 1),\n",
    "    'd': Key('d', 2, 0, 1, 2),\n",
    "    'f': Key('f', 3, 0, 1, 3),\n",
    "    'g': Key('g', 3, 0, 1, 4),\n",
    "    'h': Key('h', 7, 1, 1, 5),\n",
    "    'j': Key('j', 7, 1, 1, 6),\n",
    "    'k': Key('k', 6, 1, 1, 7),\n",
    "    'l': Key('l', 5, 1, 1, 8),\n",
    "    'z': Key('z', 0, 0, 2, 0),\n",
    "    'x': Key('x', 1, 0, 2, 1),\n",
    "    'c': Key('c', 2, 0, 2, 2),\n",
    "    'v': Key('v', 3, 0, 2, 3),\n",
    "    'b': Key('b', 3, 0, 2, 4),\n",
    "    'n': Key('n', 7, 1, 2, 5),\n",
    "    'm': Key('m', 7, 1, 2, 6),\n",
    "}"
   ]
  },
  {
   "cell_type": "markdown",
   "id": "929182ee-5d92-496e-b69e-71c00619d838",
   "metadata": {},
   "source": [
    "### 定义熵计算函数"
   ]
  },
  {
   "cell_type": "code",
   "execution_count": 10,
   "id": "6d119736-8a82-4657-b5e9-2e2dbb8b6f33",
   "metadata": {
    "execution": {
     "iopub.execute_input": "2021-08-18T12:39:54.910538Z",
     "iopub.status.busy": "2021-08-18T12:39:54.910538Z",
     "iopub.status.idle": "2021-08-18T12:39:54.924501Z",
     "shell.execute_reply": "2021-08-18T12:39:54.923503Z",
     "shell.execute_reply.started": "2021-08-18T12:39:54.910538Z"
    },
    "tags": []
   },
   "outputs": [],
   "source": [
    "# 熵\n",
    "\n",
    "def entropy(labels, is_cross=False, base=2):\n",
    "    \"\"\" Computes entropy of label distribution. \"\"\"\n",
    "\n",
    "    n_labels = len(labels)\n",
    "\n",
    "    if n_labels <= 1:\n",
    "        return 0\n",
    "\n",
    "    value,counts = np.unique(labels, return_counts=True)\n",
    "    probs = counts / n_labels\n",
    "    n_classes = np.count_nonzero(probs)\n",
    "\n",
    "    if n_classes <= 1:\n",
    "        return 0\n",
    "\n",
    "    ent = 0.\n",
    "\n",
    "    # Compute entropy\n",
    "    for i in probs:\n",
    "        ent -= i * log(\n",
    "            i if not is_cross else 1 / len(probs),\n",
    "            base,\n",
    "        )\n",
    "\n",
    "    return ent\n"
   ]
  },
  {
   "cell_type": "markdown",
   "id": "338cc45b-70ce-490d-a62e-a4168a2a2138",
   "metadata": {},
   "source": [
    "### 定义均衡性计算函数"
   ]
  },
  {
   "cell_type": "code",
   "execution_count": 11,
   "id": "f6a80814-d6d4-4e2e-89d1-9507f4b3d8ca",
   "metadata": {
    "execution": {
     "iopub.execute_input": "2021-08-18T12:39:54.925499Z",
     "iopub.status.busy": "2021-08-18T12:39:54.925499Z",
     "iopub.status.idle": "2021-08-18T12:39:54.940458Z",
     "shell.execute_reply": "2021-08-18T12:39:54.939461Z",
     "shell.execute_reply.started": "2021-08-18T12:39:54.925499Z"
    },
    "tags": []
   },
   "outputs": [],
   "source": [
    "# 设置归一化系数\n",
    "A_k = 1 / log(26, 2)\n",
    "A_f = 1 / log(8, 2)\n",
    "A_h = 1 / log(2, 2)\n",
    "\n",
    "# 设置权重\n",
    "W_k = 1 / 2\n",
    "W_f = 1 / 4\n",
    "W_h = 1 / 4\n",
    "\n",
    "def balanced(key):\n",
    "\n",
    "    # 计算均衡性指标\n",
    "    B_k = entropy(key)\n",
    "    B_f = entropy(list(map(lambda c: keys.get(c).finger, key)))\n",
    "    B_h = entropy(list(map(lambda c: keys.get(c).hand, key)))\n",
    "\n",
    "    # 计算均衡性\n",
    "    B = A_k * B_k * W_k + A_f * B_f * W_f + A_h * B_h * W_h\n",
    "    return B, B_k, B_f, B_h"
   ]
  },
  {
   "cell_type": "markdown",
   "id": "d4322533-7cc6-484f-bfb3-bfc0ddfe4528",
   "metadata": {},
   "source": [
    "### 计算均衡性"
   ]
  },
  {
   "cell_type": "code",
   "execution_count": 12,
   "id": "9decd493-011f-4487-9526-bf240191a217",
   "metadata": {
    "execution": {
     "iopub.execute_input": "2021-08-18T12:39:54.942453Z",
     "iopub.status.busy": "2021-08-18T12:39:54.942453Z",
     "iopub.status.idle": "2021-08-18T12:39:55.017296Z",
     "shell.execute_reply": "2021-08-18T12:39:55.016299Z",
     "shell.execute_reply.started": "2021-08-18T12:39:54.942453Z"
    },
    "tags": []
   },
   "outputs": [
    {
     "name": "stdout",
     "output_type": "stream",
     "text": [
      "均衡性: 0.897946\n",
      "按键熵: 4.067694\n",
      "手指熵: 2.597974\n",
      "手掌熵: 0.995023\n"
     ]
    }
   ],
   "source": [
    "B_full, B_k_full, B_f_full, B_h_full = balanced(full_list)\n",
    "print(\"均衡性: %f\\n按键熵: %f\\n手指熵: %f\\n手掌熵: %f\" % (B_full, B_k_full, B_f_full, B_h_full))"
   ]
  },
  {
   "cell_type": "markdown",
   "id": "1c44882e-8b11-4e88-898c-a0c5d27753d4",
   "metadata": {},
   "source": [
    "## 输入效率\n",
    "\n",
    "`输入效率`可分别由`平均单字击键数量`与`平均单字消耗时间`表征\n",
    "\n",
    "1. **平均单字击键数:**\n",
    "$$\n",
    "\\bar{N} := \\cfrac{N_k}{N_c}\n",
    "$$\n",
    "- $\\bar{N}$: `平均单字击键数`\n",
    "- $N_k$: `样本文章击键总数`\n",
    "- $N_c$: `样本文章总字数`(不含标点符号)\n",
    "\n",
    "2. **平均单字耗时:**\n",
    "$$\n",
    "\\bar{T} := \\cfrac{\\sum_i^{N_k}{F_i \\cdot R_i \\cdot C_i \\cdot H_i \\cdot T_0}}{N_c}\n",
    "$$\n",
    "- $\\bar{T}$: `平均单字耗时`\n",
    "- $F_i$: `手指修正参数`, 表征不同手指敲击所用时间差异(食指 < 中指 < 无名指 < 小指)\n",
    "- $R_i$: `键位修正参数(行)`, 表征不同行键位敲击所用时间差异(第2行 < 第1行 < 第3行)\n",
    "- $C_i$: `键位修正参数(列)`, 表征不同列键位敲击所用时间差异(其他 < `TGB` = `YHN`)\n",
    "- $H_i$: `手掌修正参数`, 两手交替击键与单手顺次击键所用时间差异(前后两次击键使用不同手 < 前后两次击键使用相同手)\n",
    "- $T_0$: `单键敲击基本耗时`\n",
    "- $N_k$: `样本文章击键总数`\n",
    "- $N_c$: `样本文章总字数`(不含标点符号)"
   ]
  },
  {
   "cell_type": "markdown",
   "id": "b914a80a-7d1d-449d-884a-2511de4b6d32",
   "metadata": {},
   "source": [
    "### 计算平均单字击键数"
   ]
  },
  {
   "cell_type": "code",
   "execution_count": 13,
   "id": "1690bd49-3ba8-4040-aaa6-bc452b16daf2",
   "metadata": {
    "execution": {
     "iopub.execute_input": "2021-08-18T12:39:55.018293Z",
     "iopub.status.busy": "2021-08-18T12:39:55.018293Z",
     "iopub.status.idle": "2021-08-18T12:39:55.032256Z",
     "shell.execute_reply": "2021-08-18T12:39:55.031259Z",
     "shell.execute_reply.started": "2021-08-18T12:39:55.018293Z"
    },
    "tags": []
   },
   "outputs": [],
   "source": [
    "def keystroke(N_k, N_c):\n",
    "    return N_k / N_c"
   ]
  },
  {
   "cell_type": "code",
   "execution_count": 14,
   "id": "c46b5847-c96b-4142-acde-631a29523595",
   "metadata": {
    "execution": {
     "iopub.execute_input": "2021-08-18T12:39:55.033254Z",
     "iopub.status.busy": "2021-08-18T12:39:55.033254Z",
     "iopub.status.idle": "2021-08-18T12:39:55.048221Z",
     "shell.execute_reply": "2021-08-18T12:39:55.047216Z",
     "shell.execute_reply.started": "2021-08-18T12:39:55.033254Z"
    },
    "tags": []
   },
   "outputs": [
    {
     "name": "stdout",
     "output_type": "stream",
     "text": [
      "平均单字击键数: 2.952491\n",
      "样本文章击键总数: 53508\n",
      "样本文章总字数: 18123\n"
     ]
    }
   ],
   "source": [
    "N_k_full = len(full_list)\n",
    "N_c = len(full)\n",
    "N_full = keystroke(N_k_full, N_c)\n",
    "print(\"平均单字击键数: %f\\n样本文章击键总数: %d\\n样本文章总字数: %d\" % (N_full, N_k_full, N_c))"
   ]
  },
  {
   "cell_type": "markdown",
   "id": "fd94a885-0c5f-4abf-b1c2-5a8318bcc622",
   "metadata": {},
   "source": [
    "### 计算平均单字耗时"
   ]
  },
  {
   "cell_type": "code",
   "execution_count": 15,
   "id": "1954dad0-f1d0-4c3b-83d5-398fc4dddbfe",
   "metadata": {
    "execution": {
     "iopub.execute_input": "2021-08-18T12:39:55.050209Z",
     "iopub.status.busy": "2021-08-18T12:39:55.050209Z",
     "iopub.status.idle": "2021-08-18T12:39:55.080128Z",
     "shell.execute_reply": "2021-08-18T12:39:55.079131Z",
     "shell.execute_reply.started": "2021-08-18T12:39:55.050209Z"
    },
    "tags": []
   },
   "outputs": [],
   "source": [
    "# 手指 -> 手指修正参数\n",
    "finger2F = {\n",
    "    0: 1.5,  # 小指\n",
    "    1: 1.25,  # 无名指\n",
    "    2: 1.125,  # 中指\n",
    "    3: 1.0,  # 食指\n",
    "}\n",
    "\n",
    "# 键位(行) -> 键位(行)修正参数\n",
    "row2R = {\n",
    "    0: 1.125,\n",
    "    1: 1.0,\n",
    "    2: 1.25,\n",
    "}\n",
    "\n",
    "# 键位(列) -> 键位(列)修正参数\n",
    "column2C = {\n",
    "    0: 1.0,\n",
    "    1: 1.0,\n",
    "    2: 1.0,\n",
    "    3: 1.0,\n",
    "    4: 1.125,\n",
    "    5: 1.125,\n",
    "    6: 1.0,\n",
    "    7: 1.0,\n",
    "    8: 1.0,\n",
    "    9: 1.0,\n",
    "}\n",
    "# 手掌 -> 手掌修正参数\n",
    "hand2H = lambda old, new: 1.0 if old == new else 0.75\n",
    "\n",
    "T_0 = 1.0  # 单键敲击基本耗时\n",
    "\n",
    "# 计算耗时\n",
    "def timeconsum(key):\n",
    "    hand_old = keys[key[0]].hand\n",
    "\n",
    "    t = finger2F[keys[key[0]].finger % 4] \\\n",
    "        * row2R[keys[key[0]].row] \\\n",
    "        * column2C[keys[key[0]].column] \\\n",
    "        * hand2H(hand_old, hand_old) \\\n",
    "        * T_0\n",
    "\n",
    "    T = t  # 总时间\n",
    "    for i in range(1, len(key)):\n",
    "        hand_new = keys[key[i]].hand\n",
    "        t = finger2F[keys[key[i]].finger % 4] \\\n",
    "            * row2R[keys[key[i]].row] \\\n",
    "            * column2C[keys[key[i]].column] \\\n",
    "            * hand2H(hand_old, hand_new) \\\n",
    "            * T_0\n",
    "        T += t\n",
    "        hand_old = hand_new\n",
    "\n",
    "    T_ave = T / N_c  # 平均单字消耗时间\n",
    "    return T_ave, T"
   ]
  },
  {
   "cell_type": "code",
   "execution_count": 16,
   "id": "c1479eca-0245-4caf-ad29-75afcec59ebf",
   "metadata": {
    "execution": {
     "iopub.execute_input": "2021-08-18T12:39:55.081126Z",
     "iopub.status.busy": "2021-08-18T12:39:55.081126Z",
     "iopub.status.idle": "2021-08-18T12:39:55.157924Z",
     "shell.execute_reply": "2021-08-18T12:39:55.156924Z",
     "shell.execute_reply.started": "2021-08-18T12:39:55.081126Z"
    },
    "tags": []
   },
   "outputs": [
    {
     "name": "stdout",
     "output_type": "stream",
     "text": [
      "平均单字耗时: 3.263177\n",
      "总耗时: 59138.558594\n"
     ]
    }
   ],
   "source": [
    "T_ave_full, T_full = timeconsum(full_list)\n",
    "print(\"平均单字耗时: %f\\n总耗时: %f\" % (T_ave_full, T_full))"
   ]
  },
  {
   "cell_type": "markdown",
   "id": "00b73088-21fe-4844-840b-67813af329cc",
   "metadata": {},
   "source": [
    "# Step 3 改进编码方案\n",
    "\n",
    "- 要求: 基于在`Step 2`中制定的标准，尝试在全拼基础上改进打字编码方案，使得输入该文章时字母键的使用更加均衡、输入更加高效，展示改进的结果并分析。\n",
    "- 输入: 一篇中文文章（附件文章）\n",
    "- 输出: 新的打字编码方案、新旧方案在均衡性和输入效率方面的对比\n"
   ]
  },
  {
   "cell_type": "code",
   "execution_count": 17,
   "id": "602af684-041e-43b4-a4ca-af646d74936e",
   "metadata": {
    "execution": {
     "iopub.execute_input": "2021-08-18T12:39:55.159916Z",
     "iopub.status.busy": "2021-08-18T12:39:55.158917Z",
     "iopub.status.idle": "2021-08-18T12:39:55.172881Z",
     "shell.execute_reply": "2021-08-18T12:39:55.171884Z",
     "shell.execute_reply.started": "2021-08-18T12:39:55.159916Z"
    },
    "tags": []
   },
   "outputs": [
    {
     "name": "stdout",
     "output_type": "stream",
     "text": [
      "1.68750\t1.40625\t1.26562\t1.12500\t1.26562\t1.26562\t1.12500\t1.26562\t1.40625\t1.68750\t\n",
      "1.50000\t1.25000\t1.12500\t1.00000\t1.12500\t1.12500\t1.00000\t1.12500\t1.25000\t\n",
      "1.87500\t1.56250\t1.40625\t1.25000\t1.40625\t1.40625\t1.25000\t\n"
     ]
    }
   ],
   "source": [
    "# 绘制不同按键的时间加权\n",
    "for row in [\"qwertyuiop\", \"asdfghjkl\", \"zxcvbnm\"]:\n",
    "    for c in row:\n",
    "        w = finger2F[keys[c].finger % 4] \\\n",
    "            * row2R[keys[c].row] \\\n",
    "            * column2C[keys[c].column]\n",
    "        print(\"%.5f\" % w, end='\\t')\n",
    "    print('')"
   ]
  },
  {
   "cell_type": "markdown",
   "id": "d2afd5a5-e64e-4dfb-87b7-7bc242c3c2cd",
   "metadata": {
    "tags": []
   },
   "source": [
    "## 分析与改进"
   ]
  },
  {
   "cell_type": "markdown",
   "id": "fa9e725a-e6d2-4af3-a61d-03ba1e8347b4",
   "metadata": {
    "tags": []
   },
   "source": [
    "### 分析\n",
    "\n",
    "1. 对比`全拼按键频率分布直方图`, `声母 & (y,w)频率分布直方图` 与 `韵母 & 介母频率分布直方图`, 可以看出相对于全拼与声母, 韵母数量更多且更加集中(例如<kbd>i</kbd>和<kbd>e</kbd>)\n",
    "\n",
    "2. 根据使用`平均单字消耗时间`作为输入效率量化方案, 可以计算出各按键的权重(`如下表所示`), 其中第一行中的<kbd>E</kbd>, <kbd>R</kbd>, <kbd>T</kbd>, <kbd>Y</kbd>, <kbd>U</kbd>, <kbd>I</kbd>, 第二行中的<kbd>S</kbd>, <kbd>D</kbd>, <kbd>F</kbd>, <kbd>G</kbd>, <kbd>H</kbd>, <kbd>J</kbd>, <kbd>E</kbd>, <kbd>K</kbd>, <kbd>L</kbd>, 第三行中的<kbd>V</kbd>, <kbd>M</kbd>等键均具有较好的输入效率\n",
    "\n",
    "| 行号  |        第1列         |        第2列         |        第3列         |        第4列         |        第5列         |        第6列         |        第7列         |        第8列         |        第9列         |        第10列        |\n",
    "| :---: | :------------------: | :------------------: | :------------------: | :------------------: | :------------------: | :------------------: | :------------------: | :------------------: | :------------------: | :------------------: |\n",
    "| 第1行 | <kbd>Q</kbd> 1.68750 | <kbd>W</kbd> 1.40625 | <kbd>E</kbd> 1.26562 | <kbd>R</kbd> 1.12500 | <kbd>T</kbd> 1.26562 | <kbd>Y</kbd> 1.26562 | <kbd>U</kbd> 1.12500 | <kbd>I</kbd> 1.26562 | <kbd>O</kbd> 1.40625 | <kbd>P</kbd> 1.68750 |\n",
    "| 第2行 | <kbd>A</kbd> 1.50000 | <kbd>S</kbd> 1.25000 | <kbd>D</kbd> 1.12500 | <kbd>F</kbd> 1.00000 | <kbd>G</kbd> 1.12500 | <kbd>H</kbd> 1.12500 | <kbd>J</kbd> 1.00000 | <kbd>K</kbd> 1.12500 | <kbd>L</kbd> 1.25000 |                      |\n",
    "| 第3行 | <kbd>Z</kbd> 1.87500 | <kbd>X</kbd> 1.56250 | <kbd>C</kbd> 1.40625 | <kbd>V</kbd> 1.25000 | <kbd>B</kbd> 1.40625 | <kbd>N</kbd> 1.40625 | <kbd>M</kbd> 1.25000 |                      |                      |                      |\n",
    "\n",
    "3. 分析现有双拼方案(以下图所示`小鹤双拼`为例)\n",
    "    1. 部分韵母(介母)由于其拼写规则的互斥(如下所示), 合并后并不会使重码率出现上升\n",
    "        - `üe` & `ue`\n",
    "        - `o` & `uo`\n",
    "        - `ong` & `iong`\n",
    "        - `ing` & `uai`\n",
    "        - `iang` & `uang`\n",
    "        - `ia` & `ua`\n",
    "        - `ü` & `ui`\n",
    "    2. 特殊音节可使用两个互斥的按键表示(如下所示)\n",
    "        - `a`: <kbd>A</kbd> <kbd>A</kbd>\n",
    "        - `ai`: <kbd>A</kbd> <kbd>I</kbd>\n",
    "        - `an`: <kbd>A</kbd> <kbd>N</kbd>\n",
    "        - `ang`: <kbd>A</kbd> <kbd>H</kbd>\n",
    "        - `ao`: <kbd>A</kbd> <kbd>O</kbd>\n",
    "        - `e`: <kbd>E</kbd> <kbd>E</kbd>\n",
    "        - `ei`: <kbd>E</kbd> <kbd>I</kbd>\n",
    "        - `en`: <kbd>E</kbd> <kbd>N</kbd>\n",
    "        - `er`: <kbd>E</kbd> <kbd>R</kbd>\n",
    "        - `eng`: <kbd>E</kbd> <kbd>G</kbd>\n",
    "        - `o`: <kbd>O</kbd> <kbd>O</kbd>\n",
    "        - `ou`: <kbd>O</kbd> <kbd>U</kbd>\n",
    "    3. 为了降低学习门槛, 该双拼方案保持大多数声母与单韵母的位置不变, 因此其击键热度图热区并非完全集中于效率最高的键位\n",
    "\n",
    "![小鹤双拼](images/小鹤双拼.png)\n",
    "<center>小鹤双拼布局与击键热度图</center>"
   ]
  },
  {
   "cell_type": "markdown",
   "id": "57447508-c834-4334-ae04-0ff069e67f30",
   "metadata": {},
   "source": [
    "### 改进\n",
    "\n",
    "由以上分析结果, 针对全拼与双拼, 先提出两种改进方案\n",
    "1. `全拼改进方案`: 综合`全拼按键频率分布直方图`与`按键输入效率权重表`, 将高频字母映射至输入效率较高的按键, 以期在保持`按键熵` $B_k$ 不变的条件下提高`手指熵` $B_f$, 进而提高其`均衡性` $B$, 同时提高其使用`平均单字耗时` $\\bar{T}$ 表征的`输入效率`\n",
    "2. `双拼改进方案`: 综合`声母 & (y,w)频率分布直方图`, `韵母 & 介母频率分布直方图`与`小鹤双拼布局与击键热度图`, 在保证不发生按键冲突的前提下, 将高频声母与韵母映射至输入效率较高的按键, 以期同时提高`均衡性` $B$, `平均单字击键数` $\\bar{N}$ 与 `平均单字耗时` $\\bar{T}$"
   ]
  },
  {
   "cell_type": "markdown",
   "id": "86f32689-3ed8-4e35-b1bc-1d9eead3b697",
   "metadata": {},
   "source": [
    "## 改进方案测试"
   ]
  },
  {
   "cell_type": "markdown",
   "id": "30da3868-e606-4646-8110-284c545eb5a3",
   "metadata": {},
   "source": [
    "### 全拼改进方案"
   ]
  },
  {
   "cell_type": "code",
   "execution_count": 18,
   "id": "d0770cf6-e361-4bd8-af57-901a18d6c69a",
   "metadata": {
    "execution": {
     "iopub.execute_input": "2021-08-18T12:39:55.174876Z",
     "iopub.status.busy": "2021-08-18T12:39:55.174876Z",
     "iopub.status.idle": "2021-08-18T12:39:55.203783Z",
     "shell.execute_reply": "2021-08-18T12:39:55.202787Z",
     "shell.execute_reply.started": "2021-08-18T12:39:55.174876Z"
    },
    "tags": []
   },
   "outputs": [],
   "source": [
    "# 全拼改进方案映射 原按键 -> 新按键\n",
    "iQuanPin = {\n",
    "    \"i\": \"f\",\n",
    "    \"n\": \"j\",\n",
    "    \"e\": \"d\",\n",
    "    \"a\": \"k\",\n",
    "    \"h\": \"h\",\n",
    "    \"u\": \"g\",\n",
    "    \"g\": \"r\",\n",
    "    \"o\": \"u\",\n",
    "    \"d\": \"s\",\n",
    "    \"z\": \"l\",\n",
    "    \"j\": \"v\",\n",
    "    \"s\": \"m\",\n",
    "    \"y\": \"e\",\n",
    "    \"c\": \"i\",\n",
    "    \"l\": \"t\",\n",
    "    \"x\": \"y\",\n",
    "    \"b\": \"w\",\n",
    "    \"t\": \"o\",\n",
    "    \"m\": \"c\",\n",
    "    \"w\": \"n\",\n",
    "    \"q\": \"b\",\n",
    "    \"f\": \"a\",\n",
    "    \"r\": \"x\",\n",
    "    \"k\": \"q\",\n",
    "    \"p\": \"p\",\n",
    "    \"v\": \"z\",\n",
    "}\n",
    "\n",
    "ifull_list = list(map(lambda c: iQuanPin[c], full_list))\n",
    "\n",
    "with open('./www/default.html', 'r') as fr:\n",
    "    default_page = fr.read()\n",
    "    with open('./www/ifull.html', 'w') as fw:\n",
    "        fw.write('<div id=\"inputarea\">')\n",
    "        fw.write('<textarea id=\"typefield\">')\n",
    "        fw.write(\" \".join(ifull_list))\n",
    "        fw.write('</textarea>')\n",
    "        fw.write('</div>')\n",
    "        fw.write(default_page)"
   ]
  },
  {
   "cell_type": "markdown",
   "id": "7d9a58a1-127c-4aae-a2a3-ce4949e7fe12",
   "metadata": {},
   "source": [
    "#### [改进方案热度图](./www/ifull.html)"
   ]
  },
  {
   "cell_type": "code",
   "execution_count": 19,
   "id": "93206490-4669-4ce5-b4d9-962f945d2cea",
   "metadata": {
    "execution": {
     "iopub.execute_input": "2021-08-18T12:39:55.204781Z",
     "iopub.status.busy": "2021-08-18T12:39:55.204781Z",
     "iopub.status.idle": "2021-08-18T12:39:55.219741Z",
     "shell.execute_reply": "2021-08-18T12:39:55.218743Z",
     "shell.execute_reply.started": "2021-08-18T12:39:55.204781Z"
    },
    "tags": []
   },
   "outputs": [
    {
     "data": {
      "text/html": [
       "\n",
       "        <iframe\n",
       "            width=\"810\"\n",
       "            height=\"500\"\n",
       "            src=\"./www/ifull.html\"\n",
       "            frameborder=\"0\"\n",
       "            allowfullscreen\n",
       "        ></iframe>\n",
       "        "
      ],
      "text/plain": [
       "<IPython.lib.display.IFrame at 0x2250eb02100>"
      ]
     },
     "execution_count": 19,
     "metadata": {},
     "output_type": "execute_result"
    }
   ],
   "source": [
    "IFrame(src='./www/ifull.html', width=810, height=500)"
   ]
  },
  {
   "cell_type": "markdown",
   "id": "cf97195c-7a64-4f8c-9fca-7584bf469db3",
   "metadata": {},
   "source": [
    "#### 均衡性"
   ]
  },
  {
   "cell_type": "code",
   "execution_count": 20,
   "id": "7fe2929f-6ad7-4f87-a93d-0b98a7ce1908",
   "metadata": {
    "execution": {
     "iopub.execute_input": "2021-08-18T12:39:55.221735Z",
     "iopub.status.busy": "2021-08-18T12:39:55.220737Z",
     "iopub.status.idle": "2021-08-18T12:39:55.282573Z",
     "shell.execute_reply": "2021-08-18T12:39:55.281576Z",
     "shell.execute_reply.started": "2021-08-18T12:39:55.221735Z"
    },
    "tags": []
   },
   "outputs": [
    {
     "name": "stdout",
     "output_type": "stream",
     "text": [
      "全拼改进前:\n",
      "\t均衡性: 0.897946\n",
      "\t按键熵: 4.067694\n",
      "\t手指熵: 2.597974\n",
      "\t手掌熵: 0.995023\n",
      "全拼改进后:\n",
      "\t均衡性: 0.877743\n",
      "\t按键熵: 4.067694\n",
      "\t手指熵: 2.361951\n",
      "\t手掌熵: 0.992884\n"
     ]
    }
   ],
   "source": [
    "B_ifull, B_k_ifull, B_f_ifull, B_h_ifull = balanced(ifull_list)\n",
    "\n",
    "print(\"全拼改进前:\\n\\t均衡性: %f\\n\\t按键熵: %f\\n\\t手指熵: %f\\n\\t手掌熵: %f\" % (B_full, B_k_full, B_f_full, B_h_full))\n",
    "print(\"全拼改进后:\\n\\t均衡性: %f\\n\\t按键熵: %f\\n\\t手指熵: %f\\n\\t手掌熵: %f\" % (B_ifull, B_k_ifull, B_f_ifull, B_h_ifull))\n"
   ]
  },
  {
   "cell_type": "markdown",
   "id": "242b5ebb-fe02-4bf8-92bf-9679ed04aeb0",
   "metadata": {},
   "source": [
    "#### 平均单字击键数"
   ]
  },
  {
   "cell_type": "code",
   "execution_count": 21,
   "id": "97293f50-0525-4f58-b498-d5ff035a2b6c",
   "metadata": {
    "execution": {
     "iopub.execute_input": "2021-08-18T12:39:55.284569Z",
     "iopub.status.busy": "2021-08-18T12:39:55.284569Z",
     "iopub.status.idle": "2021-08-18T12:39:55.298760Z",
     "shell.execute_reply": "2021-08-18T12:39:55.297631Z",
     "shell.execute_reply.started": "2021-08-18T12:39:55.284569Z"
    },
    "tags": []
   },
   "outputs": [
    {
     "name": "stdout",
     "output_type": "stream",
     "text": [
      "全拼改进前:\n",
      "\t平均单字击键数: 2.952491\n",
      "\t样本文章击键总数: 53508\n",
      "\t样本文章总字数: 18123\n",
      "全拼改进后:\n",
      "\t平均单字击键数: 2.952491\n",
      "\t样本文章击键总数: 53508\n",
      "\t样本文章总字数: 18123\n"
     ]
    }
   ],
   "source": [
    "N_k_ifull = len(ifull_list)\n",
    "N_ifull = keystroke(N_k_ifull, N_c)\n",
    "\n",
    "print(\"全拼改进前:\\n\\t平均单字击键数: %f\\n\\t样本文章击键总数: %d\\n\\t样本文章总字数: %d\" % (N_full, N_k_full, N_c))\n",
    "print(\"全拼改进后:\\n\\t平均单字击键数: %f\\n\\t样本文章击键总数: %d\\n\\t样本文章总字数: %d\" % (N_ifull, N_k_ifull, N_c))"
   ]
  },
  {
   "cell_type": "markdown",
   "id": "3dad3bfa-97fa-4946-b66b-32c92ae7f274",
   "metadata": {},
   "source": [
    "#### 平均单字耗时"
   ]
  },
  {
   "cell_type": "code",
   "execution_count": 22,
   "id": "4c51f8db-cf16-40aa-bbc0-3a5741ef9d12",
   "metadata": {
    "execution": {
     "iopub.execute_input": "2021-08-18T12:39:55.301182Z",
     "iopub.status.busy": "2021-08-18T12:39:55.301182Z",
     "iopub.status.idle": "2021-08-18T12:39:55.407893Z",
     "shell.execute_reply": "2021-08-18T12:39:55.406896Z",
     "shell.execute_reply.started": "2021-08-18T12:39:55.301182Z"
    },
    "tags": []
   },
   "outputs": [
    {
     "name": "stdout",
     "output_type": "stream",
     "text": [
      "全拼改进前:\n",
      "\t平均单字耗时: 3.263177\n",
      "\t总耗时: 59138.558594\n",
      "全拼改进后:\n",
      "\t平均单字耗时: 3.000504\n",
      "\t总耗时: 54378.140625\n"
     ]
    }
   ],
   "source": [
    "T_ave_ifull, T_ifull = timeconsum(ifull_list)\n",
    "\n",
    "print(\"全拼改进前:\\n\\t平均单字耗时: %f\\n\\t总耗时: %f\" % (T_ave_full, T_full))\n",
    "print(\"全拼改进后:\\n\\t平均单字耗时: %f\\n\\t总耗时: %f\" % (T_ave_ifull, T_ifull))"
   ]
  },
  {
   "cell_type": "markdown",
   "id": "db8910b8-c080-4ffe-b1fb-4eff5b9cfdc3",
   "metadata": {},
   "source": [
    "### 小鹤双拼方案"
   ]
  },
  {
   "cell_type": "code",
   "execution_count": 23,
   "id": "c4ad03c4-a45a-4295-a15b-136af7f49477",
   "metadata": {
    "execution": {
     "iopub.execute_input": "2021-08-18T12:39:55.408891Z",
     "iopub.status.busy": "2021-08-18T12:39:55.408891Z",
     "iopub.status.idle": "2021-08-18T12:39:55.439809Z",
     "shell.execute_reply": "2021-08-18T12:39:55.438811Z",
     "shell.execute_reply.started": "2021-08-18T12:39:55.408891Z"
    },
    "tags": []
   },
   "outputs": [],
   "source": [
    "# 小鹤方案映射 音节 -> 按键\n",
    "xiaoHe = {\n",
    "    \"d\": \"d\",\n",
    "    \"j\": \"j\",\n",
    "    \"y\": \"y\",\n",
    "    \"zh\": \"v\",\n",
    "    \"sh\": \"u\",\n",
    "    \"g\": \"g\",\n",
    "    \"z\": \"z\",\n",
    "    \"ch\": \"i\",\n",
    "    \"l\": \"l\",\n",
    "    \"x\": \"x\",\n",
    "    \"h\": \"h\",\n",
    "    \"b\": \"b\",\n",
    "    \"t\": \"t\",\n",
    "    \"m\": \"m\",\n",
    "    \"w\": \"w\",\n",
    "    \"q\": \"q\",\n",
    "    \"f\": \"f\",\n",
    "    \"r\": \"r\",\n",
    "    \"n\": \"n\",\n",
    "    \"c\": \"c\",\n",
    "    \"s\": \"s\",\n",
    "    \"k\": \"k\",\n",
    "    \"p\": \"p\",\n",
    "    \"\": \"\",\n",
    "    \"i\": \"i\",\n",
    "    \"e\": \"e\",\n",
    "    \"u\": \"u\",\n",
    "    \"ong\": \"s\",\n",
    "    \"an\": \"j\",\n",
    "    \"en\": \"f\",\n",
    "    \"ie\": \"p\",\n",
    "    \"ai\": \"d\",\n",
    "    \"eng\": \"g\",\n",
    "    \"a\": \"a\",\n",
    "    \"uo\": \"o\",\n",
    "    \"ou\": \"z\",\n",
    "    \"ian\": \"m\",\n",
    "    \"ui\": \"v\",\n",
    "    \"ing\": \"k\",\n",
    "    \"ang\": \"h\",\n",
    "    \"ao\": \"c\",\n",
    "    \"ei\": \"w\",\n",
    "    \"uan\": \"r\",\n",
    "    \"in\": \"b\",\n",
    "    \"iao\": \"n\",\n",
    "    \"un\": \"y\",\n",
    "    \"iang\": \"l\",\n",
    "    \"iu\": \"q\",\n",
    "    \"ue\": \"t\",\n",
    "    \"ia\": \"x\",\n",
    "    \"er\": \"er\",\n",
    "    \"o\": \"o\",\n",
    "    \"uang\": \"l\",\n",
    "    \"ua\": \"x\",\n",
    "    \"v\": \"v\",\n",
    "    \"uai\": \"k\",\n",
    "    \"iong\": \"s\",\n",
    "    \"ve\": \"t\",\n",
    "}\n",
    "\n",
    "xiaoHeSpecial = {\n",
    "    \"a\": \"aa\",\n",
    "    \"ai\": \"ai\",\n",
    "    \"an\": \"an\",\n",
    "    \"ang\": \"ah\",\n",
    "    \"ao\": \"ao\",\n",
    "    \"e\": \"ee\",\n",
    "    \"ei\": \"ei\",\n",
    "    \"en\": \"en\",\n",
    "    \"er\": \"er\",\n",
    "    \"eng\": \"eg\",\n",
    "    \"o\": \"oo\",\n",
    "    \"ou\": \"ou\",\n",
    "}\n",
    "\n",
    "def full2xiaohe(t):\n",
    "    if t[0] == \"\":\n",
    "        return xiaoHeSpecial[t[1]]\n",
    "    else:\n",
    "        return xiaoHe[t[0]] + xiaoHe[t[1]]\n",
    "\n",
    "xiaohe = list(map(full2xiaohe, zip(initials, finals)))\n",
    "\n",
    "with open('./www/default.html', 'r') as fr:\n",
    "    default_page = fr.read()\n",
    "    with open('./www/xiaohe.html', 'w') as fw:\n",
    "        fw.write('<div id=\"inputarea\">')\n",
    "        fw.write('<textarea id=\"typefield\">')\n",
    "        fw.write(\" \".join(xiaohe))\n",
    "        fw.write('</textarea>')\n",
    "        fw.write('</div>')\n",
    "        fw.write(default_page)\n",
    "\n",
    "xiaohe_list = list(\"\".join(xiaohe))"
   ]
  },
  {
   "cell_type": "markdown",
   "id": "13e69853-f790-493d-b3ba-eb8a34ae180c",
   "metadata": {},
   "source": [
    "#### [改进方案热度图](./www/xiaohe.html)"
   ]
  },
  {
   "cell_type": "code",
   "execution_count": 24,
   "id": "02b9c3d3-7c93-4d4a-93c0-cb48a312db09",
   "metadata": {
    "execution": {
     "iopub.execute_input": "2021-08-18T12:39:55.441804Z",
     "iopub.status.busy": "2021-08-18T12:39:55.441804Z",
     "iopub.status.idle": "2021-08-18T12:39:55.455766Z",
     "shell.execute_reply": "2021-08-18T12:39:55.454770Z",
     "shell.execute_reply.started": "2021-08-18T12:39:55.441804Z"
    },
    "tags": []
   },
   "outputs": [
    {
     "data": {
      "text/html": [
       "\n",
       "        <iframe\n",
       "            width=\"810\"\n",
       "            height=\"500\"\n",
       "            src=\"./www/xiaohe.html\"\n",
       "            frameborder=\"0\"\n",
       "            allowfullscreen\n",
       "        ></iframe>\n",
       "        "
      ],
      "text/plain": [
       "<IPython.lib.display.IFrame at 0x2250f7f06a0>"
      ]
     },
     "execution_count": 24,
     "metadata": {},
     "output_type": "execute_result"
    }
   ],
   "source": [
    "IFrame(src='./www/xiaohe.html', width=810, height=500)"
   ]
  },
  {
   "cell_type": "markdown",
   "id": "3fe4743b-09cb-44b1-9a2f-6c80dbd28201",
   "metadata": {},
   "source": [
    "#### 均衡性"
   ]
  },
  {
   "cell_type": "code",
   "execution_count": 25,
   "id": "a2b38101-1e5c-43ff-af15-8d6f5950cf6f",
   "metadata": {
    "execution": {
     "iopub.execute_input": "2021-08-18T12:39:55.460755Z",
     "iopub.status.busy": "2021-08-18T12:39:55.460755Z",
     "iopub.status.idle": "2021-08-18T12:39:55.518600Z",
     "shell.execute_reply": "2021-08-18T12:39:55.517601Z",
     "shell.execute_reply.started": "2021-08-18T12:39:55.460755Z"
    },
    "tags": []
   },
   "outputs": [
    {
     "name": "stdout",
     "output_type": "stream",
     "text": [
      "全拼改进前:\n",
      "\t均衡性: 0.897946\n",
      "\t按键熵: 4.067694\n",
      "\t手指熵: 2.597974\n",
      "\t手掌熵: 0.995023\n",
      "全拼改进后:\n",
      "\t均衡性: 0.877743\n",
      "\t按键熵: 4.067694\n",
      "\t手指熵: 2.361951\n",
      "\t手掌熵: 0.992884\n",
      "双拼改进前:\n",
      "\t均衡性: 0.944259\n",
      "\t按键熵: 4.420238\n",
      "\t手指熵: 2.694713\n",
      "\t手掌熵: 0.998021\n"
     ]
    }
   ],
   "source": [
    "B_xiaohe, B_k_xiaohe, B_f_xiaohe, B_h_xiaohe = balanced(xiaohe_list)\n",
    "\n",
    "print(\"全拼改进前:\\n\\t均衡性: %f\\n\\t按键熵: %f\\n\\t手指熵: %f\\n\\t手掌熵: %f\" % (B_full, B_k_full, B_f_full, B_h_full))\n",
    "print(\"全拼改进后:\\n\\t均衡性: %f\\n\\t按键熵: %f\\n\\t手指熵: %f\\n\\t手掌熵: %f\" % (B_ifull, B_k_ifull, B_f_ifull, B_h_ifull))\n",
    "\n",
    "print(\"双拼改进前:\\n\\t均衡性: %f\\n\\t按键熵: %f\\n\\t手指熵: %f\\n\\t手掌熵: %f\" % (B_xiaohe, B_k_xiaohe, B_f_xiaohe, B_h_xiaohe))"
   ]
  },
  {
   "cell_type": "markdown",
   "id": "714a0708-5b63-4673-93bc-516630deb438",
   "metadata": {},
   "source": [
    "#### 平均单字击键数"
   ]
  },
  {
   "cell_type": "code",
   "execution_count": 26,
   "id": "63a81998-4c48-4ff6-acd9-bf86c66184e4",
   "metadata": {
    "execution": {
     "iopub.execute_input": "2021-08-18T12:39:55.521590Z",
     "iopub.status.busy": "2021-08-18T12:39:55.520593Z",
     "iopub.status.idle": "2021-08-18T12:39:55.534555Z",
     "shell.execute_reply": "2021-08-18T12:39:55.533557Z",
     "shell.execute_reply.started": "2021-08-18T12:39:55.520593Z"
    },
    "tags": []
   },
   "outputs": [
    {
     "name": "stdout",
     "output_type": "stream",
     "text": [
      "全拼改进前:\n",
      "\t平均单字击键数: 2.952491\n",
      "\t样本文章击键总数: 53508\n",
      "\t样本文章总字数: 18123\n",
      "全拼改进后:\n",
      "\t平均单字击键数: 2.952491\n",
      "\t样本文章击键总数: 53508\n",
      "\t样本文章总字数: 18123\n",
      "双拼改进前:\n",
      "\t平均单字击键数: 2.000000\n",
      "\t样本文章击键总数: 36246\n",
      "\t样本文章总字数: 18123\n"
     ]
    }
   ],
   "source": [
    "N_k_xiaohe = len(xiaohe_list)\n",
    "N_xiaohe = keystroke(N_k_xiaohe, N_c)\n",
    "\n",
    "print(\"全拼改进前:\\n\\t平均单字击键数: %f\\n\\t样本文章击键总数: %d\\n\\t样本文章总字数: %d\" % (N_full, N_k_full, N_c))\n",
    "print(\"全拼改进后:\\n\\t平均单字击键数: %f\\n\\t样本文章击键总数: %d\\n\\t样本文章总字数: %d\" % (N_ifull, N_k_ifull, N_c))\n",
    "\n",
    "print(\"双拼改进前:\\n\\t平均单字击键数: %f\\n\\t样本文章击键总数: %d\\n\\t样本文章总字数: %d\" % (N_xiaohe, N_k_xiaohe, N_c))"
   ]
  },
  {
   "cell_type": "markdown",
   "id": "7abaf5a6-944c-4583-83dd-1b4582fd7097",
   "metadata": {},
   "source": [
    "#### 平均单字耗时"
   ]
  },
  {
   "cell_type": "code",
   "execution_count": 27,
   "id": "0d6e529c-475a-4e49-86c4-b3aed3069e02",
   "metadata": {
    "execution": {
     "iopub.execute_input": "2021-08-18T12:39:55.535552Z",
     "iopub.status.busy": "2021-08-18T12:39:55.535552Z",
     "iopub.status.idle": "2021-08-18T12:39:55.598386Z",
     "shell.execute_reply": "2021-08-18T12:39:55.597396Z",
     "shell.execute_reply.started": "2021-08-18T12:39:55.535552Z"
    },
    "tags": []
   },
   "outputs": [
    {
     "name": "stdout",
     "output_type": "stream",
     "text": [
      "全拼改进前:\n",
      "\t平均单字耗时: 3.263177\n",
      "\t总耗时: 59138.558594\n",
      "全拼改进后:\n",
      "\t平均单字耗时: 3.000504\n",
      "\t总耗时: 54378.140625\n",
      "双拼改进前:\n",
      "\t平均单字耗时: 2.240133\n",
      "\t总耗时: 40597.937500\n"
     ]
    }
   ],
   "source": [
    "T_ave_xiaohe, T_xiaohe = timeconsum(xiaohe_list)\n",
    "\n",
    "print(\"全拼改进前:\\n\\t平均单字耗时: %f\\n\\t总耗时: %f\" % (T_ave_full, T_full))\n",
    "print(\"全拼改进后:\\n\\t平均单字耗时: %f\\n\\t总耗时: %f\" % (T_ave_ifull, T_ifull))\n",
    "\n",
    "print(\"双拼改进前:\\n\\t平均单字耗时: %f\\n\\t总耗时: %f\" % (T_ave_xiaohe, T_xiaohe))"
   ]
  },
  {
   "cell_type": "markdown",
   "id": "791b5676-e8b4-4c0f-b57c-02bbc16c32d4",
   "metadata": {
    "tags": []
   },
   "source": [
    "### 小鹤双拼改进方案"
   ]
  },
  {
   "cell_type": "code",
   "execution_count": 28,
   "id": "a5d2d72d-ea0e-4d96-ab59-02d3fac95e05",
   "metadata": {
    "execution": {
     "iopub.execute_input": "2021-08-18T12:39:55.600380Z",
     "iopub.status.busy": "2021-08-18T12:39:55.600380Z",
     "iopub.status.idle": "2021-08-18T12:39:55.630299Z",
     "shell.execute_reply": "2021-08-18T12:39:55.629302Z",
     "shell.execute_reply.started": "2021-08-18T12:39:55.600380Z"
    },
    "tags": []
   },
   "outputs": [],
   "source": [
    "# 小鹤改进方案映射 原按键 -> 新按键\n",
    "\n",
    "iXiaoHe = {\n",
    "    \"i\": \"f\",\n",
    "    \"u\": \"j\",\n",
    "    \"d\": \"d\",\n",
    "    \"e\": \"k\",\n",
    "    \"j\": \"h\",\n",
    "    \"y\": \"g\",\n",
    "    \"v\": \"r\",\n",
    "    \"g\": \"u\",\n",
    "    \"h\": \"s\",\n",
    "    \"l\": \"l\",\n",
    "    \"x\": \"v\",\n",
    "    \"m\": \"m\",\n",
    "    \"z\": \"e\",\n",
    "    \"b\": \"i\",\n",
    "    \"f\": \"t\",\n",
    "    \"w\": \"y\",\n",
    "    \"s\": \"w\",\n",
    "    \"k\": \"o\",\n",
    "    \"r\": \"c\",\n",
    "    \"t\": \"n\",\n",
    "    \"c\": \"b\",\n",
    "    \"o\": \"a\",\n",
    "    \"a\": \"x\",\n",
    "    \"q\": \"q\",\n",
    "    \"n\": \"p\",\n",
    "    \"p\": \"z\",\n",
    "}\n",
    "\n",
    "ixiaohe = list(map(lambda t: iXiaoHe[t[0]] + iXiaoHe[t[1]], zip(xiaohe_list[0::2], xiaohe_list[1::2])))\n",
    "\n",
    "with open('./www/default.html', 'r') as fr:\n",
    "    default_page = fr.read()\n",
    "    with open('./www/ixiaohe.html', 'w') as fw:\n",
    "        fw.write('<div id=\"inputarea\">')\n",
    "        fw.write('<textarea id=\"typefield\">')\n",
    "        fw.write(\" \".join(ixiaohe))\n",
    "        fw.write('</textarea>')\n",
    "        fw.write('</div>')\n",
    "        fw.write(default_page)\n",
    "\n",
    "ixiaohe_list = list(\"\".join(ixiaohe))"
   ]
  },
  {
   "cell_type": "markdown",
   "id": "5632abcb-11f6-4790-87b5-8bd415775d1f",
   "metadata": {},
   "source": [
    "#### [改进方案热度图](./www/ixiaohe.html)\n"
   ]
  },
  {
   "cell_type": "code",
   "execution_count": 29,
   "id": "6c187e37-0624-4bd6-b6b9-bf912f50bed7",
   "metadata": {
    "execution": {
     "iopub.execute_input": "2021-08-18T12:39:55.632294Z",
     "iopub.status.busy": "2021-08-18T12:39:55.631296Z",
     "iopub.status.idle": "2021-08-18T12:39:55.646256Z",
     "shell.execute_reply": "2021-08-18T12:39:55.645259Z",
     "shell.execute_reply.started": "2021-08-18T12:39:55.632294Z"
    },
    "tags": []
   },
   "outputs": [
    {
     "data": {
      "text/html": [
       "\n",
       "        <iframe\n",
       "            width=\"810\"\n",
       "            height=\"500\"\n",
       "            src=\"./www/ixiaohe.html\"\n",
       "            frameborder=\"0\"\n",
       "            allowfullscreen\n",
       "        ></iframe>\n",
       "        "
      ],
      "text/plain": [
       "<IPython.lib.display.IFrame at 0x2250f7e8970>"
      ]
     },
     "execution_count": 29,
     "metadata": {},
     "output_type": "execute_result"
    }
   ],
   "source": [
    "IFrame(src='./www/ixiaohe.html', width=810, height=500)"
   ]
  },
  {
   "cell_type": "markdown",
   "id": "e1305cda-3761-4130-8a9a-0dee08b266a3",
   "metadata": {},
   "source": [
    "#### 均衡性"
   ]
  },
  {
   "cell_type": "code",
   "execution_count": 30,
   "id": "84c9f51f-b3a6-4b80-867b-e1fb23efd840",
   "metadata": {
    "execution": {
     "iopub.execute_input": "2021-08-18T12:39:55.648253Z",
     "iopub.status.busy": "2021-08-18T12:39:55.647254Z",
     "iopub.status.idle": "2021-08-18T12:39:55.709839Z",
     "shell.execute_reply": "2021-08-18T12:39:55.709087Z",
     "shell.execute_reply.started": "2021-08-18T12:39:55.648253Z"
    },
    "tags": []
   },
   "outputs": [
    {
     "name": "stdout",
     "output_type": "stream",
     "text": [
      "全拼改进前:\n",
      "\t均衡性: 0.897946\n",
      "\t按键熵: 4.067694\n",
      "\t手指熵: 2.597974\n",
      "\t手掌熵: 0.995023\n",
      "全拼改进后:\n",
      "\t均衡性: 0.877743\n",
      "\t按键熵: 4.067694\n",
      "\t手指熵: 2.361951\n",
      "\t手掌熵: 0.992884\n",
      "双拼改进前:\n",
      "\t均衡性: 0.944259\n",
      "\t按键熵: 4.420238\n",
      "\t手指熵: 2.694713\n",
      "\t手掌熵: 0.998021\n",
      "双拼改进后:\n",
      "\t均衡性: 0.932026\n",
      "\t按键熵: 4.420238\n",
      "\t手指熵: 2.584392\n",
      "\t手掌熵: 0.985862\n"
     ]
    }
   ],
   "source": [
    "B_ixiaohe, B_k_ixiaohe, B_f_ixiaohe, B_h_ixiaohe = balanced(ixiaohe_list)\n",
    "\n",
    "print(\"全拼改进前:\\n\\t均衡性: %f\\n\\t按键熵: %f\\n\\t手指熵: %f\\n\\t手掌熵: %f\" % (B_full, B_k_full, B_f_full, B_h_full))\n",
    "print(\"全拼改进后:\\n\\t均衡性: %f\\n\\t按键熵: %f\\n\\t手指熵: %f\\n\\t手掌熵: %f\" % (B_ifull, B_k_ifull, B_f_ifull, B_h_ifull))\n",
    "\n",
    "print(\"双拼改进前:\\n\\t均衡性: %f\\n\\t按键熵: %f\\n\\t手指熵: %f\\n\\t手掌熵: %f\" % (B_xiaohe, B_k_xiaohe, B_f_xiaohe, B_h_xiaohe))\n",
    "print(\"双拼改进后:\\n\\t均衡性: %f\\n\\t按键熵: %f\\n\\t手指熵: %f\\n\\t手掌熵: %f\" % (B_ixiaohe, B_k_ixiaohe, B_f_ixiaohe, B_h_ixiaohe))"
   ]
  },
  {
   "cell_type": "markdown",
   "id": "5858c786-1fa4-4884-ae9a-a80b526198f7",
   "metadata": {},
   "source": [
    "#### 平均单字击键数"
   ]
  },
  {
   "cell_type": "code",
   "execution_count": 31,
   "id": "d20cbcfa-2e98-48d9-aa85-4d942040c9d2",
   "metadata": {
    "execution": {
     "iopub.execute_input": "2021-08-18T12:39:55.711839Z",
     "iopub.status.busy": "2021-08-18T12:39:55.711839Z",
     "iopub.status.idle": "2021-08-18T12:39:55.724803Z",
     "shell.execute_reply": "2021-08-18T12:39:55.723806Z",
     "shell.execute_reply.started": "2021-08-18T12:39:55.711839Z"
    },
    "tags": []
   },
   "outputs": [
    {
     "name": "stdout",
     "output_type": "stream",
     "text": [
      "全拼改进前:\n",
      "\t平均单字击键数: 2.952491\n",
      "\t样本文章击键总数: 53508\n",
      "\t样本文章总字数: 18123\n",
      "全拼改进后:\n",
      "\t平均单字击键数: 2.952491\n",
      "\t样本文章击键总数: 53508\n",
      "\t样本文章总字数: 18123\n",
      "双拼改进前:\n",
      "\t平均单字击键数: 2.000000\n",
      "\t样本文章击键总数: 36246\n",
      "\t样本文章总字数: 18123\n",
      "双拼改进后:\n",
      "\t平均单字击键数: 2.000000\n",
      "\t样本文章击键总数: 36246\n",
      "\t样本文章总字数: 18123\n"
     ]
    }
   ],
   "source": [
    "N_k_ixiaohe = len(ixiaohe_list)\n",
    "N_ixiaohe = keystroke(N_k_ixiaohe, N_c)\n",
    "\n",
    "print(\"全拼改进前:\\n\\t平均单字击键数: %f\\n\\t样本文章击键总数: %d\\n\\t样本文章总字数: %d\" % (N_full, N_k_full, N_c))\n",
    "print(\"全拼改进后:\\n\\t平均单字击键数: %f\\n\\t样本文章击键总数: %d\\n\\t样本文章总字数: %d\" % (N_ifull, N_k_ifull, N_c))\n",
    "\n",
    "print(\"双拼改进前:\\n\\t平均单字击键数: %f\\n\\t样本文章击键总数: %d\\n\\t样本文章总字数: %d\" % (N_xiaohe, N_k_xiaohe, N_c))\n",
    "print(\"双拼改进后:\\n\\t平均单字击键数: %f\\n\\t样本文章击键总数: %d\\n\\t样本文章总字数: %d\" % (N_ixiaohe, N_k_ixiaohe, N_c))"
   ]
  },
  {
   "cell_type": "markdown",
   "id": "f4991cf0-5eb5-4769-b3a1-1c67ca241548",
   "metadata": {},
   "source": [
    "#### 平均单字耗时"
   ]
  },
  {
   "cell_type": "code",
   "execution_count": 32,
   "id": "f75a0159-89eb-4ca5-8be1-b1e2285f1c93",
   "metadata": {
    "execution": {
     "iopub.execute_input": "2021-08-18T12:39:55.725800Z",
     "iopub.status.busy": "2021-08-18T12:39:55.725800Z",
     "iopub.status.idle": "2021-08-18T12:39:55.786639Z",
     "shell.execute_reply": "2021-08-18T12:39:55.785640Z",
     "shell.execute_reply.started": "2021-08-18T12:39:55.725800Z"
    },
    "tags": []
   },
   "outputs": [
    {
     "name": "stdout",
     "output_type": "stream",
     "text": [
      "全拼改进前:\n",
      "\t平均单字耗时: 3.263177\n",
      "\t总耗时: 59138.558594\n",
      "全拼改进后:\n",
      "\t平均单字耗时: 3.000504\n",
      "\t总耗时: 54378.140625\n",
      "双拼改进前:\n",
      "\t平均单字耗时: 2.240133\n",
      "\t总耗时: 40597.937500\n",
      "双拼改进后:\n",
      "\t平均单字耗时: 2.108291\n",
      "\t总耗时: 38208.562500\n"
     ]
    }
   ],
   "source": [
    "T_ave_ixiaohe, T_ixiaohe = timeconsum(ixiaohe_list)\n",
    "\n",
    "print(\"全拼改进前:\\n\\t平均单字耗时: %f\\n\\t总耗时: %f\" % (T_ave_full, T_full))\n",
    "print(\"全拼改进后:\\n\\t平均单字耗时: %f\\n\\t总耗时: %f\" % (T_ave_ifull, T_ifull))\n",
    "\n",
    "print(\"双拼改进前:\\n\\t平均单字耗时: %f\\n\\t总耗时: %f\" % (T_ave_xiaohe, T_xiaohe))\n",
    "print(\"双拼改进后:\\n\\t平均单字耗时: %f\\n\\t总耗时: %f\" % (T_ave_ixiaohe, T_ixiaohe))"
   ]
  },
  {
   "cell_type": "markdown",
   "id": "c02ea3af-ce53-4922-a649-7cb05738c362",
   "metadata": {},
   "source": [
    "## 测试结果分析\n",
    "\n",
    "|    方案    |  均衡性  |  按键熵  |  手指熵  |  手掌熵  | 平均单字击键数 | 击键总数 | 样本字数 | 平均单字耗时 |    总耗时    |\n",
    "| :--------: | :------: | :------: | :------: | :------: | :------------: | :------: | :------: | :----------: | :----------: |\n",
    "| 全拼改进前 | 0.897946 | 4.067694 | 2.597974 | 0.995023 |    2.952491    |  53508   |  18123   |   3.263177   | 59138.558594 |\n",
    "| 全拼改进后 | 0.877743 | 4.067694 | 2.361951 | 0.992884 |    2.952491    |  53508   |  18123   |   3.000504   | 54378.140625 |\n",
    "| 双拼改进前 | 0.944259 | 4.420238 | 2.694713 | 0.998021 |    2.000000    |  36246   |  18123   |   2.240133   | 40597.937500 |\n",
    "| 双拼改进后 | 0.932026 | 4.420238 | 2.584392 | 0.985862 |    2.000000    |  36246   |  18123   |   2.108291   | 38208.562500 |\n",
    "\n",
    "1. 对比全拼改进前后与双拼改进前后的测试结果:\n",
    "    - 通过更改键盘按键布局对`平均单字耗时`衡量的输入效率具有一定的提升, 但是不影响`平均单字击键数`\n",
    "    - 通过更改键盘按键布局对方案的`按键熵`无影响, 对`手掌熵`影响有限, 而`手指熵`会显著降低, 进而导致`均衡性`也随之降低, 针对对同一种方案改进前后, `均衡性`与`输入效率`可能存在一定的负相关, 即按键击键越均衡输入效率反而会下降\n",
    "2. 对比全拼与双拼的测试结果:\n",
    "    - 双拼方案可以有效提高`均衡性`与`输入效率`"
   ]
  },
  {
   "cell_type": "markdown",
   "id": "773fb9d3-e440-4301-a37f-d05f16b064ca",
   "metadata": {
    "tags": []
   },
   "source": [
    "# 参考资料"
   ]
  },
  {
   "cell_type": "markdown",
   "id": "e62c21d7-c176-4dfb-9ea3-8860d41ac0ad",
   "metadata": {},
   "source": [
    "1. [Keyboard Heatmap | Realtime heatmap visualization of text character distribution](https://www.patrick-wied.at/projects/heatmap-keyboard/)\n",
    "0. [双拼布局的统计计算](https://tiansh.github.io/lqbz/sp/)\n",
    "0. [GitHub - tiansh/lqbz: 乱七八糟——堆一些奇怪的东西](https://github.com/tiansh/lqbz)\n",
    "0. [heatmap.js : Dynamic Heatmaps for the Web](https://www.patrick-wied.at/static/heatmapjs/)\n",
    "0. [GitHub - pa7/heatmap.js: 🔥 JavaScript Library for HTML5 canvas based heatmaps](https://github.com/pa7/heatmap.js)\n",
    "0. [python使用matplotlib画词频分析的图_如何使用matplotlib或任何其他库创建词频图_weixin_39746652的博客-CSDN博客](https://blog.csdn.net/weixin_39746652/article/details/113969749)\n",
    "0. [python画频率直方图_字母频率：绘制一个直方图，按PYTHON的值排序_weixin_39526459的博客-CSDN博客](https://blog.csdn.net/weixin_39526459/article/details/109970976)\n",
    "0. [Matplotlib中柱状图bar使用 - 1直在路上1 - 博客园](https://www.cnblogs.com/always-fight/p/9707727.html)\n",
    "0. [numpy - Fastest way to compute entropy in Python - Stack Overflow](https://stackoverflow.com/questions/15450192/fastest-way-to-compute-entropy-in-python)\n",
    "0. [API — pypinyin 0.42.0 文档](https://pypinyin.readthedocs.io/zh_CN/master/api.html)\n",
    "0. [LaTeX公式手册(全网最全) - 樱花赞 - 博客园](https://www.cnblogs.com/1024th/p/11623258.html)\n",
    "0. [介母（拼音符号及组合特点）_百度百科](https://baike.baidu.com/item/%E4%BB%8B%E6%AF%8D/4028328)\n",
    "0. [汉语拼音方案 - 中华人民共和国教育部政府门户网站](http://www.moe.gov.cn/jyb_sjzl/ziliao/A19/195802/t19580201_186000.html)\n",
    "0. [python-pinyin/test_standard.py at master · mozillazg/python-pinyin](https://github.com/mozillazg/python-pinyin/blob/master/tests/test_standard.py)\n",
    "0. [小鹤双拼·小鹤音形 - 官方网站](https://www.flypy.com/)\n",
    "0. [Python格式化字符串 - 田小计划 - 博客园](https://www.cnblogs.com/wilber2013/p/4641616.html)\n"
   ]
  }
 ],
 "metadata": {
  "jupytext": {
   "formats": "ipynb,md"
  },
  "kernelspec": {
   "display_name": "VISC",
   "language": "python",
   "name": "visc"
  },
  "language_info": {
   "codemirror_mode": {
    "name": "ipython",
    "version": 3
   },
   "file_extension": ".py",
   "mimetype": "text/x-python",
   "name": "python",
   "nbconvert_exporter": "python",
   "pygments_lexer": "ipython3",
   "version": "3.9.2"
  },
  "widgets": {
   "application/vnd.jupyter.widget-state+json": {
    "state": {
     "1f3d8f33e5ed4d4985e4df82df73b8ed": {
      "model_module": "@jupyter-widgets/base",
      "model_module_version": "1.2.0",
      "model_name": "LayoutModel",
      "state": {}
     },
     "7278370715bf42e5ac14be821a07118d": {
      "model_module": "@jupyter-widgets/base",
      "model_module_version": "1.2.0",
      "model_name": "LayoutModel",
      "state": {}
     }
    },
    "version_major": 2,
    "version_minor": 0
   }
  }
 },
 "nbformat": 4,
 "nbformat_minor": 5
}
